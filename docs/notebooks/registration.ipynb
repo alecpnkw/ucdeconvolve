{
 "cells": [
  {
   "attachments": {},
   "cell_type": "markdown",
   "metadata": {},
   "source": [
    "Sign Up\n",
    "-----------------\n",
    "### Registration\n",
    "Registration for UCDeconvolve is straightforward and can be done either in\n",
    "a notebook environment or terminal. We offer dynamic registration with\n",
    "live user input, or programmatic registration with al fields as an input.\n",
    "\n",
    "Load the ucdeconvolve package and run the 'ucd.api.register' command as shown below.\n",
    "Follow the instructions by inputting the required information at each step."
   ]
  },
  {
   "cell_type": "code",
   "execution_count": 4,
   "metadata": {},
   "outputs": [
    {
     "name": "stdout",
     "output_type": "stream",
     "text": [
      "Please check inbox at <email address> and copy/paste activation code into prompt below.\n"
     ]
    }
   ],
   "source": [
    "import ucdeconvolve as ucd\n",
    "\n",
    "ucd.api.register()"
   ]
  },
  {
   "attachments": {},
   "cell_type": "markdown",
   "metadata": {},
   "source": [
    "Alternatively, one can perform registration entirely programmatically by\n",
    "invoking the function as follows:"
   ]
  },
  {
   "cell_type": "code",
   "execution_count": null,
   "metadata": {},
   "outputs": [],
   "source": [
    "username = \"USERNAME\"\n",
    "password = \"PASSWORD\"\n",
    "firstname = \"FIRSTNAME\"\n",
    "lastname = \"LASTNAME\"\n",
    "email = \"EMAIL\"\n",
    "institution = \"INSTITUTION\"\n",
    "\n",
    "ucd.api.register(\n",
    "    username = username,\n",
    "    password = password,\n",
    "    firstname = firstname,\n",
    "    lastname = lastname,\n",
    "    email = email,\n",
    "    institution=institution\n",
    "    dynamic = False\n",
    ")"
   ]
  },
  {
   "attachments": {},
   "cell_type": "markdown",
   "metadata": {},
   "source": [
    "### Activation\n",
    "Upon completion of the initial registration form, you will recieve an email at\n",
    "the address specified with an activation code. Copy the code and paste it back\n",
    "into the waiting input prompt in order to activate your account. Upon account\n",
    "activation, a followup email will be sent with your user API key. This key\n",
    "will also be automatically appended to your working 'ucd' module instance."
   ]
  },
  {
   "attachments": {},
   "cell_type": "markdown",
   "metadata": {},
   "source": [
    "If you accidentally close the registration function instance prior to adding\n",
    "the activation code, you can still activate your account by invoking the\n",
    "'ucd.api.activate' command and passing the activation code directly there."
   ]
  },
  {
   "cell_type": "code",
   "execution_count": null,
   "metadata": {},
   "outputs": [],
   "source": [
    "activation_code = \"ACTIVATION_CODE\"\n",
    "ucd.api.activate(activation_code)"
   ]
  }
 ],
 "metadata": {
  "kernelspec": {
   "display_name": "unicell-web2",
   "language": "python",
   "name": "python3"
  },
  "language_info": {
   "codemirror_mode": {
    "name": "ipython",
    "version": 3
   },
   "file_extension": ".py",
   "mimetype": "text/x-python",
   "name": "python",
   "nbconvert_exporter": "python",
   "pygments_lexer": "ipython3",
   "version": "3.9.16"
  },
  "orig_nbformat": 4
 },
 "nbformat": 4,
 "nbformat_minor": 2
}
