{
 "cells": [
  {
   "attachments": {},
   "cell_type": "markdown",
   "metadata": {},
   "source": [
    "# Bulk RNA-Seq\n",
    "In this tutorial we are going to run through how UCDeconvolve can be used to aid in the analysis and annotation of\n",
    "bulk RNA-Sequencing data. For this tutorial, we are going to recreate part of the analysis in Figure 5 of the\n",
    "unicell deconvolve manuscript, where we analyze bulk-RNA-Seq data from \n",
    "patients at various stages of Type 2 Diabetes from a prior study ``GSE50244``.\n",
    "\n",
    "## Loading Packages & Authenticating\n",
    "The first step in this analysis will be to load scanpy and ucdeconvolve after following the installation and registration instructions, and\n",
    "authenticate our API. In this tutorial we saved our user access token in the variable ``TOKEN``."
   ]
  },
  {
   "cell_type": "code",
   "execution_count": 17,
   "metadata": {},
   "outputs": [
    {
     "name": "stderr",
     "output_type": "stream",
     "text": [
      "2023-04-25 17:23:16,217|[UCD]|INFO: Updated valid user access token.\n"
     ]
    }
   ],
   "source": [
    "import matplotlib.pyplot as plt\n",
    "import scanpy as sc\n",
    "import seaborn as sns\n",
    "import requests\n",
    "import io\n",
    "\n",
    "import ucdeconvolve as ucd\n",
    "ucd.api.authenticate(TOKEN)"
   ]
  },
  {
   "attachments": {},
   "cell_type": "markdown",
   "metadata": {},
   "source": [
    "## Download and Pre-Process Data\n",
    "\n",
    "We will download a preprocessed version of the target dataset from an online repository. This dataset contains expression\n",
    "data from pancreatic islet biopsies from ~100 patients at varying stages of T2D."
   ]
  },
  {
   "cell_type": "code",
   "execution_count": 3,
   "metadata": {},
   "outputs": [],
   "source": [
    "url = \"https://github.com/dchary/ucdeconvolve_paper/raw/main/figure5/adata_t2d_GSE50244.h5ad\"\n",
    "adata = sc.read_h5ad(io.BytesIO(requests.get(url).content))"
   ]
  },
  {
   "attachments": {},
   "cell_type": "markdown",
   "metadata": {},
   "source": [
    "## Run UCDBase For Context-Free Prediction\n",
    "\n",
    "We begin by obtaining context-free cell type predictions using UCDBase. "
   ]
  },
  {
   "cell_type": "code",
   "execution_count": 5,
   "metadata": {},
   "outputs": [
    {
     "name": "stderr",
     "output_type": "stream",
     "text": [
      "2023-04-25 17:19:09,360|[UCD]|INFO: Starting UCDeconvolveBASE Run. | Timer Started.\n",
      "Preprocessing Dataset | 100% (1 of 1) |##| Elapsed Time: 0:00:00 Time:  0:00:00\n",
      "2023-04-25 17:19:10,062|[UCD]|INFO: Uploading Data | Timer Started.\n",
      "2023-04-25 17:19:10,917|[UCD]|INFO: Upload Complete | Elapsed Time: 0.854 (s)\n",
      "Waiting For Submission : UNKNOWN | Queue Size : 0 | \\ |#| 2 Elapsed Time: 0:00:03\n",
      "Waiting For Submission : QUEUED | Queue Size : 1 | / |#| 4 Elapsed Time: 0:00:06\n",
      "Waiting For Submission : RUNNING | Queue Size : 1 | | |#| 4 Elapsed Time: 0:00:06\n",
      "Waiting For Completion | 100% (77 of 77) || Elapsed Time: 0:00:14 Time:  0:00:14\n",
      "2023-04-25 17:19:33,178|[UCD]|INFO: Download Results | Timer Started.\n",
      "2023-04-25 17:19:33,417|[UCD]|INFO: Download Complete | Elapsed Time: 0.239 (s)\n",
      "2023-04-25 17:19:34,084|[UCD]|INFO: Run Complete | Elapsed Time: 24.723 (s)\n"
     ]
    }
   ],
   "source": [
    "ucd.tl.base(adata)"
   ]
  },
  {
   "attachments": {},
   "cell_type": "markdown",
   "metadata": {},
   "source": [
    "### Examine Differences in Pancreatic Beta Cell Fractions Across Disease States\n",
    "We want to look at differences in cell type fractions between patients stratified by disease state. Late-stage T2D is characterized\n",
    "by a loss of beta cells. Let's see if this dataset is concordant with this hypothesis."
   ]
  },
  {
   "cell_type": "code",
   "execution_count": 34,
   "metadata": {},
   "outputs": [
    {
     "data": {
      "image/png": "[encoded data removed]",
      "text/plain": [
       "<Figure size 350x500 with 1 Axes>"
      ]
     },
     "metadata": {},
     "output_type": "display_data"
    }
   ],
   "source": [
    "# Load only beta cell predictions\n",
    "preds = ucd.utils.read_results(adata, celltypes = ['type b pancreatic cell'])\n",
    "\n",
    "# Append to adata as a column\n",
    "adata.obs['type b pancreatic cell'] = preds['type b pancreatic cell']\n",
    "\n",
    "# Plot boxplots\n",
    "fig, ax = plt.subplots(figsize = (3.5,5))\n",
    "sns.boxplot(data = adata.obs, x = 'DiseaseStatus', y = 'type b pancreatic cell',\n",
    "            order = ['Normal', 'Pre-Diabetes', 'Diabetes'], ax = ax,\n",
    "            palette=\"Set2\", width = 0.5)\n",
    "sns.stripplot(data = adata.obs, x = 'DiseaseStatus', y = 'type b pancreatic cell',\n",
    "            order = ['Normal', 'Pre-Diabetes', 'Diabetes'], ax = ax, color = 'k', size = 4)\n",
    "sns.despine(ax = ax, trim = True, offset = 5)\n"
   ]
  },
  {
   "attachments": {},
   "cell_type": "markdown",
   "metadata": {},
   "source": [
    "## Run UCDSelect For Contextualized Predictions\n",
    "\n",
    "We may want to leverage a pancreas-specific reference dataset to explore more detail subtypes, but also to confirm\n",
    "the findings suggested by our context-free approach. We can use UCDSelect to do this, which leverages\n",
    "a transfer learning regime utilizing UCDBase as a feature extraciton engine to calculate cell-type features for an input\n",
    "target dataset and an annotated reference dataset. \n",
    "\n",
    "UCDSelect comes with pre-built reference datasets for common tissue types. To view datasets available as prebuilt\n",
    "references, run the utility function ``ucd.utils.list_prebuilt_references()``. \n"
   ]
  },
  {
   "attachments": {},
   "cell_type": "markdown",
   "metadata": {},
   "source": [
    "%%eval-rst\n",
    ".. note::\n",
    "    Would you like to have a particular study incorporated as a prebuilt reference? Email us at ``ucdeconvolve@gmail.com``\n",
    "    and let us know!"
   ]
  },
  {
   "cell_type": "code",
   "execution_count": 35,
   "metadata": {},
   "outputs": [
    {
     "data": {
      "text/plain": [
       "['allen-mouse-cortex', 'enge2017-human-pancreas', 'lee-human-pbmc-covid']"
      ]
     },
     "execution_count": 35,
     "metadata": {},
     "output_type": "execute_result"
    }
   ],
   "source": [
    "ucd.utils.list_prebuilt_references()"
   ]
  },
  {
   "attachments": {},
   "cell_type": "markdown",
   "metadata": {},
   "source": [
    "### Running UCDSelect\n",
    "Let's go ahead and run ucdselect using the *enge2017-human-pancreas* reference."
   ]
  },
  {
   "cell_type": "code",
   "execution_count": 36,
   "metadata": {},
   "outputs": [
    {
     "name": "stderr",
     "output_type": "stream",
     "text": [
      "2023-04-25 17:28:26,171|[UCD]|INFO: Starting UCDeconvolveSELECT Run. | Timer Started.\n",
      "Preprocessing Mix | 100% (1 of 1) |######| Elapsed Time: 0:00:00 Time:  0:00:00\n",
      "Preprocessing Ref | 100% (1 of 1) |######| Elapsed Time: 0:00:00 Time:  0:00:00\n",
      "2023-04-25 17:28:27,651|[UCD]|INFO: Uploading Data | Timer Started.\n",
      "2023-04-25 17:28:28,784|[UCD]|INFO: Upload Complete | Elapsed Time: 1.132 (s)\n",
      "Waiting For Submission : UNKNOWN | Queue Size : 0 | / |#| 0 Elapsed Time: 0:00:00\n",
      "Waiting For Submission : QUEUED | Queue Size : 1 | - |#| 1 Elapsed Time: 0:00:01\n",
      "Waiting For Submission : RUNNING | Queue Size : 1 | | |#| 1 Elapsed Time: 0:00:01\n",
      "Waiting For Completion | 100% (77 of 77) || Elapsed Time: 0:00:22 Time:  0:00:22\n",
      "2023-04-25 17:29:12,832|[UCD]|INFO: Download Results | Timer Started.\n",
      "2023-04-25 17:29:12,958|[UCD]|INFO: Download Complete | Elapsed Time: 0.125 (s)\n",
      "2023-04-25 17:29:13,621|[UCD]|INFO: Run Complete | Elapsed Time: 47.449 (s)\n"
     ]
    }
   ],
   "source": [
    "ucd.tl.select(adata, \"enge2017-human-pancreas\")"
   ]
  },
  {
   "attachments": {},
   "cell_type": "markdown",
   "metadata": {},
   "source": [
    "Let's go ahead and read our results, where we see only pancreas-specific\n",
    "cell types being deconvoled which were annotated in the original reference."
   ]
  },
  {
   "cell_type": "code",
   "execution_count": 38,
   "metadata": {},
   "outputs": [
    {
     "data": {
      "text/html": [
       "<div>\n",
       "<style scoped>\n",
       "    .dataframe tbody tr th:only-of-type {\n",
       "        vertical-align: middle;\n",
       "    }\n",
       "\n",
       "    .dataframe tbody tr th {\n",
       "        vertical-align: top;\n",
       "    }\n",
       "\n",
       "    .dataframe thead th {\n",
       "        text-align: right;\n",
       "    }\n",
       "</style>\n",
       "<table border=\"1\" class=\"dataframe\">\n",
       "  <thead>\n",
       "    <tr style=\"text-align: right;\">\n",
       "      <th></th>\n",
       "      <th>beta</th>\n",
       "      <th>alpha</th>\n",
       "      <th>ductal</th>\n",
       "      <th>delta</th>\n",
       "      <th>acinar</th>\n",
       "      <th>mesenchymal</th>\n",
       "    </tr>\n",
       "    <tr>\n",
       "      <th>sample_id</th>\n",
       "      <th></th>\n",
       "      <th></th>\n",
       "      <th></th>\n",
       "      <th></th>\n",
       "      <th></th>\n",
       "      <th></th>\n",
       "    </tr>\n",
       "  </thead>\n",
       "  <tbody>\n",
       "    <tr>\n",
       "      <th>GSM1216753</th>\n",
       "      <td>0.000859</td>\n",
       "      <td>0.048488</td>\n",
       "      <td>0.704008</td>\n",
       "      <td>0.119697</td>\n",
       "      <td>0.126949</td>\n",
       "      <td>0.000000</td>\n",
       "    </tr>\n",
       "    <tr>\n",
       "      <th>GSM1216755</th>\n",
       "      <td>0.126114</td>\n",
       "      <td>0.124226</td>\n",
       "      <td>0.000000</td>\n",
       "      <td>0.000000</td>\n",
       "      <td>0.710946</td>\n",
       "      <td>0.038713</td>\n",
       "    </tr>\n",
       "    <tr>\n",
       "      <th>GSM1216758</th>\n",
       "      <td>0.365763</td>\n",
       "      <td>0.102278</td>\n",
       "      <td>0.000000</td>\n",
       "      <td>0.000000</td>\n",
       "      <td>0.000000</td>\n",
       "      <td>0.531958</td>\n",
       "    </tr>\n",
       "    <tr>\n",
       "      <th>GSM1216760</th>\n",
       "      <td>0.566138</td>\n",
       "      <td>0.015259</td>\n",
       "      <td>0.000000</td>\n",
       "      <td>0.000000</td>\n",
       "      <td>0.207783</td>\n",
       "      <td>0.210820</td>\n",
       "    </tr>\n",
       "    <tr>\n",
       "      <th>GSM1216763</th>\n",
       "      <td>0.000000</td>\n",
       "      <td>0.066785</td>\n",
       "      <td>0.125175</td>\n",
       "      <td>0.000000</td>\n",
       "      <td>0.396808</td>\n",
       "      <td>0.411232</td>\n",
       "    </tr>\n",
       "  </tbody>\n",
       "</table>\n",
       "</div>"
      ],
      "text/plain": [
       "                beta     alpha    ductal     delta    acinar  mesenchymal\n",
       "sample_id                                                                \n",
       "GSM1216753  0.000859  0.048488  0.704008  0.119697  0.126949     0.000000\n",
       "GSM1216755  0.126114  0.124226  0.000000  0.000000  0.710946     0.038713\n",
       "GSM1216758  0.365763  0.102278  0.000000  0.000000  0.000000     0.531958\n",
       "GSM1216760  0.566138  0.015259  0.000000  0.000000  0.207783     0.210820\n",
       "GSM1216763  0.000000  0.066785  0.125175  0.000000  0.396808     0.411232"
      ]
     },
     "execution_count": 38,
     "metadata": {},
     "output_type": "execute_result"
    }
   ],
   "source": [
    "ucd.utils.read_results(adata, key = 'ucdselect').head(5)"
   ]
  },
  {
   "attachments": {},
   "cell_type": "markdown",
   "metadata": {},
   "source": [
    "Let's repeat our boxplot plotting and look at results for type b pancreatic cells when using a contextualized reference\n",
    "for deconvolution with fine-tuning."
   ]
  },
  {
   "cell_type": "code",
   "execution_count": 58,
   "metadata": {},
   "outputs": [
    {
     "data": {
      "image/png": "[encoded data removed]",
      "text/plain": [
       "<Figure size 350x500 with 1 Axes>"
      ]
     },
     "metadata": {},
     "output_type": "display_data"
    }
   ],
   "source": [
    "# Load only beta cell predictions\n",
    "preds = ucd.utils.read_results(adata, key = 'ucdselect', celltypes = ['beta'])\n",
    "\n",
    "# Append to adata as a column\n",
    "adata.obs['beta'] = preds['beta']\n",
    "\n",
    "# Plot boxplots\n",
    "fig, ax = plt.subplots(figsize = (3.5,5))\n",
    "sns.boxplot(data = adata.obs, x = 'DiseaseStatus', y = 'beta',\n",
    "            order = ['Normal', 'Pre-Diabetes', 'Diabetes'], ax = ax,\n",
    "            palette=\"Set2\", width = 0.5)\n",
    "sns.stripplot(data = adata.obs, x = 'DiseaseStatus', y = 'beta',\n",
    "            order = ['Normal', 'Pre-Diabetes', 'Diabetes'], ax = ax, color = 'k', size = 4)\n",
    "sns.despine(ax = ax, trim = True, offset = 5)\n"
   ]
  },
  {
   "attachments": {},
   "cell_type": "markdown",
   "metadata": {},
   "source": [
    "We can see that islet samples in the Diabetes cohort exhibit almost no detectable beta cells, which patients who are\n",
    "otherwise healthy report a predicted beta cell median fraction of ~30%. Note that while the trend of relative proportions between ucdbase and ucdselect is the same,\n",
    "the absolute proportions were different. Healthy islets are often ~70% beta cells, however these bulk islet samples likely represent imperfect dissections, with ~50% of the tissue predicted to represent pancreatical acinar / ductal epithelial cells and mesencyhmal stroma."
   ]
  }
 ],
 "metadata": {
  "kernelspec": {
   "display_name": "ucdeconvolve-docs-env2",
   "language": "python",
   "name": "python3"
  },
  "language_info": {
   "codemirror_mode": {
    "name": "ipython",
    "version": 3
   },
   "file_extension": ".py",
   "mimetype": "text/x-python",
   "name": "python",
   "nbconvert_exporter": "python",
   "pygments_lexer": "ipython3",
   "version": "3.8.16"
  },
  "orig_nbformat": 4
 },
 "nbformat": 4,
 "nbformat_minor": 2
}
